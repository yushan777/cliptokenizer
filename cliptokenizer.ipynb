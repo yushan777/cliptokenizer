{
  "cells": [
    {
      "cell_type": "markdown",
      "metadata": {
        "id": "y7nGjMsHOZIP"
      },
      "source": [
        "# Clip Tokenizer\n",
        "\n"
      ]
    },
    {
      "cell_type": "code",
      "execution_count": 1,
      "metadata": {
        "id": "ku2PLmLxMreH",
        "colab": {
          "base_uri": "https://localhost:8080/"
        },
        "outputId": "87f22b62-8768-4454-a6ab-76437627684a"
      },
      "outputs": [
        {
          "output_type": "stream",
          "name": "stdout",
          "text": [
            "This will take a couple of minutes...\n",
            "\u001b[2K     \u001b[90m━━━━━━━━━━━━━━━━━━━━━━━━━━━━━━━━━━━━━━━━\u001b[0m \u001b[32m1.7/1.7 MB\u001b[0m \u001b[31m9.1 MB/s\u001b[0m eta \u001b[36m0:00:00\u001b[0m\n",
            "\u001b[2K     \u001b[90m━━━━━━━━━━━━━━━━━━━━━━━━━━━━━━━━━━━━━━━━\u001b[0m \u001b[32m302.0/302.0 kB\u001b[0m \u001b[31m13.6 MB/s\u001b[0m eta \u001b[36m0:00:00\u001b[0m\n",
            "\u001b[2K     \u001b[90m━━━━━━━━━━━━━━━━━━━━━━━━━━━━━━━━━━━━━━━━\u001b[0m \u001b[32m1.3/1.3 MB\u001b[0m \u001b[31m18.7 MB/s\u001b[0m eta \u001b[36m0:00:00\u001b[0m\n",
            "\u001b[2K     \u001b[90m━━━━━━━━━━━━━━━━━━━━━━━━━━━━━━━━━━━━━━━━\u001b[0m \u001b[32m261.4/261.4 kB\u001b[0m \u001b[31m18.9 MB/s\u001b[0m eta \u001b[36m0:00:00\u001b[0m\n",
            "\u001b[2K     \u001b[90m━━━━━━━━━━━━━━━━━━━━━━━━━━━━━━━━━━━━━━━━\u001b[0m \u001b[32m7.9/7.9 MB\u001b[0m \u001b[31m21.9 MB/s\u001b[0m eta \u001b[36m0:00:00\u001b[0m\n",
            "\u001b[2K     \u001b[90m━━━━━━━━━━━━━━━━━━━━━━━━━━━━━━━━━━━━━━━━\u001b[0m \u001b[32m3.8/3.8 MB\u001b[0m \u001b[31m57.4 MB/s\u001b[0m eta \u001b[36m0:00:00\u001b[0m\n",
            "\u001b[2K     \u001b[90m━━━━━━━━━━━━━━━━━━━━━━━━━━━━━━━━━━━━━━━━\u001b[0m \u001b[32m295.0/295.0 kB\u001b[0m \u001b[31m33.4 MB/s\u001b[0m eta \u001b[36m0:00:00\u001b[0m\n",
            "\u001b[?25h"
          ]
        }
      ],
      "source": [
        "#@title 1. Install Requirements\n",
        "\n",
        "print(\"This will take a couple of minutes...\")\n",
        "!pip install -q --upgrade diffusers[torch]\n",
        "#!pip install -q xformers==0.0.17\n",
        "!pip install -q transformers\n",
        "#!pip install -q triton\n",
        "\n"
      ]
    },
    {
      "cell_type": "code",
      "execution_count": 2,
      "metadata": {
        "id": "K-akUTZHw7Ls"
      },
      "outputs": [],
      "source": [
        "#@title 2. Setup Function\n",
        "\n",
        "from transformers import CLIPTokenizer, CLIPModel\n",
        "import json\n",
        "\n",
        "\n",
        "# ===========================================================================\n",
        "# ===========================================================================\n",
        "def tokenize(token):\n",
        "\n",
        "  with open(Vocab_File_Path, \"r\", encoding='utf-8') as f:\n",
        "    vocab = json.load(f)\n",
        "    vocab = {v: k for k, v in vocab.items()}\n",
        "\n",
        "  tokenizer = CLIPTokenizer.from_pretrained(MODEL_PATH, subfolder=\"tokenizer\",revision=\"fp16\")\n",
        "\n",
        "  # print(tokenizer)\n",
        "  print(f'vocab size: {tokenizer.vocab_size}')\n",
        "  print(f'max length: {tokenizer.model_max_length}')\n",
        "  print(f'special token (bos): {tokenizer.bos_token}')\n",
        "  print(f'special token (eos): {tokenizer.eos_token}')\n",
        "  print(f'special token (unk): {tokenizer.unk_token}')\n",
        "  print(f'special token (pad): {tokenizer.pad_token}\\n')\n",
        "\n",
        "  #inputs = tokenizer(sys.argv[1], padding=True)\n",
        "  inputs = tokenizer(f'{token}', padding=True)\n",
        "  value = sum(inputs[\"input_ids\"])\n",
        "  value_str = str(value)\n",
        "  token_data = ''\n",
        "\n",
        "  # holds lines of sub-tokens up to the width of the grid (minus margin)\n",
        "  return_list = []\n",
        "  margin_right = 256\n",
        "\n",
        "  # add current string to list\n",
        "  #return_list.append(token_data)\n",
        "  #token_data = '' # reset\n",
        "\n",
        "  # print(inputs[\"input_ids\"])\n",
        "  #  print the token ids in rows of 10\n",
        "  row_length = 10\n",
        "  for i in range(0, len(inputs[\"input_ids\"]), row_length):\n",
        "      # Extract a row's worth of numbers\n",
        "      row = inputs[\"input_ids\"][i:i+row_length]\n",
        "      # Create a formatted string for the row\n",
        "      row_string = ', '.join(f\"{num:5d}\" for num in row)\n",
        "      # Print the row without the trailing comma on the last row and without a newline at the end\n",
        "      print(row_string + (',' if i + row_length < len(inputs[\"input_ids\"]) else ''), end='\\n')\n",
        "\n",
        "\n",
        "\n",
        "  print('\\n')\n",
        "\n",
        "  token_count = 0\n",
        "  for x in range(len(inputs[\"input_ids\"])):\n",
        "    #print(vocab[inputs[\"input_ids\"][x]] + \" \" + str(inputs[\"input_ids\"][x]))\n",
        "\n",
        "\n",
        "\n",
        "    # don't include <|startoftext|> 49406 or <|endoftext|> 49407\n",
        "    # if inputs[\"input_ids\"][x] != 49406 and inputs[\"input_ids\"][x] != 49407:\n",
        "    # add next sub-token\n",
        "    token_data += '[' + vocab[inputs[\"input_ids\"][x]] + ']'\n",
        "    token_count += 1\n",
        "    # check string length, if >= grid_width\n",
        "    # if (get_text_size(token_data, myFont)[0] + margin_right) >= grid_width:\n",
        "    #   return_list.append(token_data.strip())\n",
        "    #   token_data = '' #reset string\n",
        "    if x < len(inputs[\"input_ids\"]) - 2:\n",
        "      token_data += ' '\n",
        "\n",
        "  # add last or only string\n",
        "  if len(token_data.strip()) > 0:\n",
        "    return_list.append(token_data.strip())\n",
        "\n",
        "  # print(return_list)\n",
        "  print(\"Token Count = \" + f'{token_count}')\n",
        "\n",
        "\n",
        "  return return_list, token_count\n",
        "\n"
      ]
    },
    {
      "cell_type": "code",
      "source": [
        "#@title 3. Select Model\n",
        "# =========================================================================================\n",
        "# SETUP SD PIPELINE\n",
        "# =========================================================================================\n",
        "import torch\n",
        "import os\n",
        "import shutil\n",
        "from diffusers import StableDiffusionPipeline, AutoencoderKL, DDIMScheduler\n",
        "\n",
        "if torch.cuda.is_available():\n",
        "    torch.cuda.empty_cache()\n",
        "\n",
        "\n",
        "SELECT_MODEL = 'Stable Diffusion 1.5' #@param [\"Stable Diffusion 1.5\", \"Stable Diffusion 2.1\"]\n",
        "\n",
        "# can be local paths also\n",
        "if SELECT_MODEL=='Stable Diffusion 1.5':\n",
        "  MODEL_PATH = \"runwayml/stable-diffusion-v1-5\"\n",
        "  VAE_PATH = \"stabilityai/sd-vae-ft-mse\"\n",
        "  pipe = StableDiffusionPipeline.from_pretrained(f'{MODEL_PATH}',\n",
        "                                               vae = AutoencoderKL.from_pretrained(f'{VAE_PATH}', torch_dtype = torch.float16),\n",
        "                                               revision=\"fp16\",\n",
        "                                               torch_dtype = torch.float16,\n",
        "                                               safety_checker = None)\n",
        "elif SELECT_MODEL=='Stable Diffusion 2.1':\n",
        "  MODEL_PATH = \"stabilityai/stable-diffusion-2-1\"\n",
        "  pipe = StableDiffusionPipeline.from_pretrained(f'{MODEL_PATH}',\n",
        "                                               revision=\"fp16\",\n",
        "                                               torch_dtype = torch.float16,\n",
        "                                               safety_checker = None)\n",
        "\n",
        "\n",
        "\n",
        "pipe.scheduler = DDIMScheduler.from_config(pipe.scheduler.config)\n",
        "pipe = pipe.to(\"cuda\")\n",
        "\n",
        "# =========================================================================================\n",
        "# Copy the vocab.json from the cache to current dir\n",
        "# =========================================================================================\n",
        "# tokenizer/vocab.json files are normally saved in cache e.g.\n",
        "# /root/.cache/huggingface/hub/models--runwayml--stable-diffusion-v1-5/snapshots/xxxxx/tokenizer/vocab.json\n",
        "\n",
        "name = 'vocab.json'\n",
        "init_path = '/root/.cache/'\n",
        "Vocab_File_Path = None  # Initialize the variable to store the vocab file path\n",
        "\n",
        "# Walk through the directory structure starting at init_path\n",
        "for root, dirs, files in os.walk(init_path):\n",
        "    if name in files:\n",
        "        # If the vocab.json file is found, store its path\n",
        "        Vocab_File_Path = os.path.join(root, name)\n",
        "        print(f\"Found vocab file at: {Vocab_File_Path}\")\n",
        "        break  # Exit the loop once the file is found\n",
        "\n",
        "if Vocab_File_Path is not None:\n",
        "    print(\"Vocab file path set.\")\n",
        "else:\n",
        "    print(\"Vocab file not found.\")\n",
        "\n",
        "# Now Vocab_File_Path contains the path to the vocab.json file"
      ],
      "metadata": {
        "id": "lNmNk5QTD0Ti",
        "colab": {
          "base_uri": "https://localhost:8080/",
          "height": 142,
          "referenced_widgets": [
            "6565f6c6f85e4babad6ce46a7a7d8ac0",
            "c1945ecc80544959834291c6777e2fa1",
            "4c2a0dc89b744dc09573665a9878b671",
            "e0499cea30cb4666bd648ae9c6c5791f",
            "e781c88f883a463fb3ad086225dc8927",
            "4d750e3f120a4f3ba08fdda345d1620b",
            "e17e4f278b76425897d112d9cd7b05d7",
            "89cc317f29904a0389358c496dfe24a1",
            "5e2992efe039486799dd4cf19797b704",
            "bdd3796deddb4f4aadf1f7c3e380df3f",
            "e1959e7de4334d6895c6b9c5fc093d31"
          ]
        },
        "outputId": "7a234240-db60-4011-d5ed-5b7fd7f33d9d"
      },
      "execution_count": 7,
      "outputs": [
        {
          "output_type": "stream",
          "name": "stderr",
          "text": [
            "unet/diffusion_pytorch_model.safetensors not found\n"
          ]
        },
        {
          "output_type": "display_data",
          "data": {
            "text/plain": [
              "Loading pipeline components...:   0%|          | 0/6 [00:00<?, ?it/s]"
            ],
            "application/vnd.jupyter.widget-view+json": {
              "version_major": 2,
              "version_minor": 0,
              "model_id": "6565f6c6f85e4babad6ce46a7a7d8ac0"
            }
          },
          "metadata": {}
        },
        {
          "output_type": "stream",
          "name": "stderr",
          "text": [
            "You have disabled the safety checker for <class 'diffusers.pipelines.stable_diffusion.pipeline_stable_diffusion.StableDiffusionPipeline'> by passing `safety_checker=None`. Ensure that you abide to the conditions of the Stable Diffusion license and do not expose unfiltered results in services or applications open to the public. Both the diffusers team and Hugging Face strongly recommend to keep the safety filter enabled in all public facing circumstances, disabling it only for use-cases that involve analyzing network behavior or auditing its results. For more information, please have a look at https://github.com/huggingface/diffusers/pull/254 .\n"
          ]
        },
        {
          "output_type": "stream",
          "name": "stdout",
          "text": [
            "Found vocab file at: /root/.cache/huggingface/hub/models--runwayml--stable-diffusion-v1-5/snapshots/ded79e214aa69e42c24d3f5ac14b76d568679cc2/tokenizer/vocab.json\n",
            "Vocab file path set.\n"
          ]
        }
      ]
    },
    {
      "cell_type": "code",
      "source": [
        "TOKENS = \"We’re introducing a neural network called CLIP which efficiently learns visual concepts from natural language supervision. CLIP can be applied to any visual classification benchmark by simply providing the names of the visual categories to be recognized, similar to the “zero-shot” capabilities of GPT-2 and GPT-3. called CLIP which efficiently learns visual concepts from natural language supervision. CLIP can be applied to any called CLIP which efficiently learns visual concepts from natural language supervision. CLIP can be applied to any\"\n",
        "\n",
        "tokenize(TOKENS)"
      ],
      "metadata": {
        "colab": {
          "base_uri": "https://localhost:8080/"
        },
        "id": "WW_QsPJ_cA01",
        "outputId": "2fc3b0d7-dcdb-4674-8ba3-ecdb9014bcfa"
      },
      "execution_count": 8,
      "outputs": [
        {
          "output_type": "stream",
          "name": "stderr",
          "text": [
            "Token indices sequence length is longer than the specified maximum sequence length for this model (102 > 77). Running this sequence through the model will result in indexing errors\n"
          ]
        },
        {
          "output_type": "stream",
          "name": "stdout",
          "text": [
            "vocab size: 49408\n",
            "max length: 77\n",
            "special token (bos): <|startoftext|>\n",
            "special token (eos): <|endoftext|>\n",
            "special token (unk): <|endoftext|>\n",
            "special token (pad): <|endoftext|>\n",
            "\n",
            "49406,   649,   728,   503,   810,  6256,   320, 26388,  3304,  2726,\n",
            " 9289,  1448, 32915, 17569,  7195, 16763,   633,  3288,  4781, 36234,\n",
            "  269,  9289,   753,   655, 12636,   531,  1504,  7195, 26612, 31775,\n",
            "  638,  6151,  7250,   518,  6130,   539,   518,  7195, 19971,   531,\n",
            "  655,  9929,   267,  8547,   531,   518,   728,   506,  5848,   268,\n",
            " 2000,   728,   507, 19512,   539,    70,  1459,   268,   273,   537,\n",
            "   70,  1459,   268,   274,   269,  2726,  9289,  1448, 32915, 17569,\n",
            " 7195, 16763,   633,  3288,  4781, 36234,   269,  9289,   753,   655,\n",
            "12636,   531,  1504,  2726,  9289,  1448, 32915, 17569,  7195, 16763,\n",
            "  633,  3288,  4781, 36234,   269,  9289,   753,   655, 12636,   531,\n",
            " 1504, 49407\n",
            "\n",
            "\n",
            "Token Count = 102\n"
          ]
        },
        {
          "output_type": "execute_result",
          "data": {
            "text/plain": [
              "(['[<|startoftext|>] [we</w>] [âĢ] [Ļ</w>] [re</w>] [introducing</w>] [a</w>] [neural</w>] [network</w>] [called</w>] [clip</w>] [which</w>] [efficiently</w>] [learns</w>] [visual</w>] [concepts</w>] [from</w>] [natural</w>] [language</w>] [supervision</w>] [.</w>] [clip</w>] [can</w>] [be</w>] [applied</w>] [to</w>] [any</w>] [visual</w>] [classification</w>] [benchmark</w>] [by</w>] [simply</w>] [providing</w>] [the</w>] [names</w>] [of</w>] [the</w>] [visual</w>] [categories</w>] [to</w>] [be</w>] [recognized</w>] [,</w>] [similar</w>] [to</w>] [the</w>] [âĢ] [ľ</w>] [zero</w>] [-</w>] [shot</w>] [âĢ] [Ŀ</w>] [capabilities</w>] [of</w>] [g] [pt</w>] [-</w>] [2</w>] [and</w>] [g] [pt</w>] [-</w>] [3</w>] [.</w>] [called</w>] [clip</w>] [which</w>] [efficiently</w>] [learns</w>] [visual</w>] [concepts</w>] [from</w>] [natural</w>] [language</w>] [supervision</w>] [.</w>] [clip</w>] [can</w>] [be</w>] [applied</w>] [to</w>] [any</w>] [called</w>] [clip</w>] [which</w>] [efficiently</w>] [learns</w>] [visual</w>] [concepts</w>] [from</w>] [natural</w>] [language</w>] [supervision</w>] [.</w>] [clip</w>] [can</w>] [be</w>] [applied</w>] [to</w>] [any</w>][<|endoftext|>]'],\n",
              " 102)"
            ]
          },
          "metadata": {},
          "execution_count": 8
        }
      ]
    },
    {
      "cell_type": "code",
      "source": [],
      "metadata": {
        "id": "szYvHNJPWI3V"
      },
      "execution_count": null,
      "outputs": []
    }
  ],
  "metadata": {
    "accelerator": "GPU",
    "colab": {
      "provenance": []
    },
    "gpuClass": "standard",
    "kernelspec": {
      "display_name": "Python 3",
      "language": "python",
      "name": "python3"
    },
    "language_info": {
      "name": "python",
      "version": "3.11.0"
    },
    "vscode": {
      "interpreter": {
        "hash": "1a1af0ee75eeea9e2e1ee996c87e7a2b11a0bebd85af04bb136d915cefc0abce"
      }
    },
    "widgets": {
      "application/vnd.jupyter.widget-state+json": {
        "6565f6c6f85e4babad6ce46a7a7d8ac0": {
          "model_module": "@jupyter-widgets/controls",
          "model_name": "HBoxModel",
          "model_module_version": "1.5.0",
          "state": {
            "_dom_classes": [],
            "_model_module": "@jupyter-widgets/controls",
            "_model_module_version": "1.5.0",
            "_model_name": "HBoxModel",
            "_view_count": null,
            "_view_module": "@jupyter-widgets/controls",
            "_view_module_version": "1.5.0",
            "_view_name": "HBoxView",
            "box_style": "",
            "children": [
              "IPY_MODEL_c1945ecc80544959834291c6777e2fa1",
              "IPY_MODEL_4c2a0dc89b744dc09573665a9878b671",
              "IPY_MODEL_e0499cea30cb4666bd648ae9c6c5791f"
            ],
            "layout": "IPY_MODEL_e781c88f883a463fb3ad086225dc8927"
          }
        },
        "c1945ecc80544959834291c6777e2fa1": {
          "model_module": "@jupyter-widgets/controls",
          "model_name": "HTMLModel",
          "model_module_version": "1.5.0",
          "state": {
            "_dom_classes": [],
            "_model_module": "@jupyter-widgets/controls",
            "_model_module_version": "1.5.0",
            "_model_name": "HTMLModel",
            "_view_count": null,
            "_view_module": "@jupyter-widgets/controls",
            "_view_module_version": "1.5.0",
            "_view_name": "HTMLView",
            "description": "",
            "description_tooltip": null,
            "layout": "IPY_MODEL_4d750e3f120a4f3ba08fdda345d1620b",
            "placeholder": "​",
            "style": "IPY_MODEL_e17e4f278b76425897d112d9cd7b05d7",
            "value": "Loading pipeline components...: 100%"
          }
        },
        "4c2a0dc89b744dc09573665a9878b671": {
          "model_module": "@jupyter-widgets/controls",
          "model_name": "FloatProgressModel",
          "model_module_version": "1.5.0",
          "state": {
            "_dom_classes": [],
            "_model_module": "@jupyter-widgets/controls",
            "_model_module_version": "1.5.0",
            "_model_name": "FloatProgressModel",
            "_view_count": null,
            "_view_module": "@jupyter-widgets/controls",
            "_view_module_version": "1.5.0",
            "_view_name": "ProgressView",
            "bar_style": "success",
            "description": "",
            "description_tooltip": null,
            "layout": "IPY_MODEL_89cc317f29904a0389358c496dfe24a1",
            "max": 6,
            "min": 0,
            "orientation": "horizontal",
            "style": "IPY_MODEL_5e2992efe039486799dd4cf19797b704",
            "value": 6
          }
        },
        "e0499cea30cb4666bd648ae9c6c5791f": {
          "model_module": "@jupyter-widgets/controls",
          "model_name": "HTMLModel",
          "model_module_version": "1.5.0",
          "state": {
            "_dom_classes": [],
            "_model_module": "@jupyter-widgets/controls",
            "_model_module_version": "1.5.0",
            "_model_name": "HTMLModel",
            "_view_count": null,
            "_view_module": "@jupyter-widgets/controls",
            "_view_module_version": "1.5.0",
            "_view_name": "HTMLView",
            "description": "",
            "description_tooltip": null,
            "layout": "IPY_MODEL_bdd3796deddb4f4aadf1f7c3e380df3f",
            "placeholder": "​",
            "style": "IPY_MODEL_e1959e7de4334d6895c6b9c5fc093d31",
            "value": " 6/6 [00:02&lt;00:00,  1.29it/s]"
          }
        },
        "e781c88f883a463fb3ad086225dc8927": {
          "model_module": "@jupyter-widgets/base",
          "model_name": "LayoutModel",
          "model_module_version": "1.2.0",
          "state": {
            "_model_module": "@jupyter-widgets/base",
            "_model_module_version": "1.2.0",
            "_model_name": "LayoutModel",
            "_view_count": null,
            "_view_module": "@jupyter-widgets/base",
            "_view_module_version": "1.2.0",
            "_view_name": "LayoutView",
            "align_content": null,
            "align_items": null,
            "align_self": null,
            "border": null,
            "bottom": null,
            "display": null,
            "flex": null,
            "flex_flow": null,
            "grid_area": null,
            "grid_auto_columns": null,
            "grid_auto_flow": null,
            "grid_auto_rows": null,
            "grid_column": null,
            "grid_gap": null,
            "grid_row": null,
            "grid_template_areas": null,
            "grid_template_columns": null,
            "grid_template_rows": null,
            "height": null,
            "justify_content": null,
            "justify_items": null,
            "left": null,
            "margin": null,
            "max_height": null,
            "max_width": null,
            "min_height": null,
            "min_width": null,
            "object_fit": null,
            "object_position": null,
            "order": null,
            "overflow": null,
            "overflow_x": null,
            "overflow_y": null,
            "padding": null,
            "right": null,
            "top": null,
            "visibility": null,
            "width": null
          }
        },
        "4d750e3f120a4f3ba08fdda345d1620b": {
          "model_module": "@jupyter-widgets/base",
          "model_name": "LayoutModel",
          "model_module_version": "1.2.0",
          "state": {
            "_model_module": "@jupyter-widgets/base",
            "_model_module_version": "1.2.0",
            "_model_name": "LayoutModel",
            "_view_count": null,
            "_view_module": "@jupyter-widgets/base",
            "_view_module_version": "1.2.0",
            "_view_name": "LayoutView",
            "align_content": null,
            "align_items": null,
            "align_self": null,
            "border": null,
            "bottom": null,
            "display": null,
            "flex": null,
            "flex_flow": null,
            "grid_area": null,
            "grid_auto_columns": null,
            "grid_auto_flow": null,
            "grid_auto_rows": null,
            "grid_column": null,
            "grid_gap": null,
            "grid_row": null,
            "grid_template_areas": null,
            "grid_template_columns": null,
            "grid_template_rows": null,
            "height": null,
            "justify_content": null,
            "justify_items": null,
            "left": null,
            "margin": null,
            "max_height": null,
            "max_width": null,
            "min_height": null,
            "min_width": null,
            "object_fit": null,
            "object_position": null,
            "order": null,
            "overflow": null,
            "overflow_x": null,
            "overflow_y": null,
            "padding": null,
            "right": null,
            "top": null,
            "visibility": null,
            "width": null
          }
        },
        "e17e4f278b76425897d112d9cd7b05d7": {
          "model_module": "@jupyter-widgets/controls",
          "model_name": "DescriptionStyleModel",
          "model_module_version": "1.5.0",
          "state": {
            "_model_module": "@jupyter-widgets/controls",
            "_model_module_version": "1.5.0",
            "_model_name": "DescriptionStyleModel",
            "_view_count": null,
            "_view_module": "@jupyter-widgets/base",
            "_view_module_version": "1.2.0",
            "_view_name": "StyleView",
            "description_width": ""
          }
        },
        "89cc317f29904a0389358c496dfe24a1": {
          "model_module": "@jupyter-widgets/base",
          "model_name": "LayoutModel",
          "model_module_version": "1.2.0",
          "state": {
            "_model_module": "@jupyter-widgets/base",
            "_model_module_version": "1.2.0",
            "_model_name": "LayoutModel",
            "_view_count": null,
            "_view_module": "@jupyter-widgets/base",
            "_view_module_version": "1.2.0",
            "_view_name": "LayoutView",
            "align_content": null,
            "align_items": null,
            "align_self": null,
            "border": null,
            "bottom": null,
            "display": null,
            "flex": null,
            "flex_flow": null,
            "grid_area": null,
            "grid_auto_columns": null,
            "grid_auto_flow": null,
            "grid_auto_rows": null,
            "grid_column": null,
            "grid_gap": null,
            "grid_row": null,
            "grid_template_areas": null,
            "grid_template_columns": null,
            "grid_template_rows": null,
            "height": null,
            "justify_content": null,
            "justify_items": null,
            "left": null,
            "margin": null,
            "max_height": null,
            "max_width": null,
            "min_height": null,
            "min_width": null,
            "object_fit": null,
            "object_position": null,
            "order": null,
            "overflow": null,
            "overflow_x": null,
            "overflow_y": null,
            "padding": null,
            "right": null,
            "top": null,
            "visibility": null,
            "width": null
          }
        },
        "5e2992efe039486799dd4cf19797b704": {
          "model_module": "@jupyter-widgets/controls",
          "model_name": "ProgressStyleModel",
          "model_module_version": "1.5.0",
          "state": {
            "_model_module": "@jupyter-widgets/controls",
            "_model_module_version": "1.5.0",
            "_model_name": "ProgressStyleModel",
            "_view_count": null,
            "_view_module": "@jupyter-widgets/base",
            "_view_module_version": "1.2.0",
            "_view_name": "StyleView",
            "bar_color": null,
            "description_width": ""
          }
        },
        "bdd3796deddb4f4aadf1f7c3e380df3f": {
          "model_module": "@jupyter-widgets/base",
          "model_name": "LayoutModel",
          "model_module_version": "1.2.0",
          "state": {
            "_model_module": "@jupyter-widgets/base",
            "_model_module_version": "1.2.0",
            "_model_name": "LayoutModel",
            "_view_count": null,
            "_view_module": "@jupyter-widgets/base",
            "_view_module_version": "1.2.0",
            "_view_name": "LayoutView",
            "align_content": null,
            "align_items": null,
            "align_self": null,
            "border": null,
            "bottom": null,
            "display": null,
            "flex": null,
            "flex_flow": null,
            "grid_area": null,
            "grid_auto_columns": null,
            "grid_auto_flow": null,
            "grid_auto_rows": null,
            "grid_column": null,
            "grid_gap": null,
            "grid_row": null,
            "grid_template_areas": null,
            "grid_template_columns": null,
            "grid_template_rows": null,
            "height": null,
            "justify_content": null,
            "justify_items": null,
            "left": null,
            "margin": null,
            "max_height": null,
            "max_width": null,
            "min_height": null,
            "min_width": null,
            "object_fit": null,
            "object_position": null,
            "order": null,
            "overflow": null,
            "overflow_x": null,
            "overflow_y": null,
            "padding": null,
            "right": null,
            "top": null,
            "visibility": null,
            "width": null
          }
        },
        "e1959e7de4334d6895c6b9c5fc093d31": {
          "model_module": "@jupyter-widgets/controls",
          "model_name": "DescriptionStyleModel",
          "model_module_version": "1.5.0",
          "state": {
            "_model_module": "@jupyter-widgets/controls",
            "_model_module_version": "1.5.0",
            "_model_name": "DescriptionStyleModel",
            "_view_count": null,
            "_view_module": "@jupyter-widgets/base",
            "_view_module_version": "1.2.0",
            "_view_name": "StyleView",
            "description_width": ""
          }
        }
      }
    }
  },
  "nbformat": 4,
  "nbformat_minor": 0
}