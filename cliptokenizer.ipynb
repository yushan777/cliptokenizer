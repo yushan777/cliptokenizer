{
  "cells": [
    {
      "cell_type": "markdown",
      "metadata": {
        "id": "y7nGjMsHOZIP"
      },
      "source": [
        "# Clip Tokenizer\n",
        "\n"
      ]
    },
    {
      "cell_type": "code",
      "execution_count": 3,
      "metadata": {
        "id": "ku2PLmLxMreH",
        "colab": {
          "base_uri": "https://localhost:8080/"
        },
        "outputId": "70d36506-13e5-4a20-b482-162dc95cd56b"
      },
      "outputs": [
        {
          "output_type": "stream",
          "name": "stdout",
          "text": [
            "This will take a couple of minutes...\n"
          ]
        }
      ],
      "source": [
        "#@title 1. Install Requirements\n",
        "\n",
        "print(\"This will take a couple of minutes...\")\n",
        "!pip install -q --upgrade diffusers[torch]\n",
        "#!pip install -q xformers==0.0.17\n",
        "!pip install -q transformers\n",
        "#!pip install -q triton\n",
        "\n"
      ]
    },
    {
      "cell_type": "code",
      "source": [
        "#@title 2. Setup Pipeline\n",
        "\n",
        "import os\n",
        "import torch\n",
        "from transformers import CLIPTokenizer\n",
        "from transformers import file_utils\n",
        "from diffusers import StableDiffusionPipeline, DDIMScheduler\n",
        "# =======================================\n",
        "# setup pipeline\n",
        "if torch.cuda.is_available():\n",
        "    torch.cuda.empty_cache()\n",
        "\n",
        "MODEL_PATH = \"runwayml/stable-diffusion-v1-5\"\n",
        "pipe = StableDiffusionPipeline.from_pretrained(f'{MODEL_PATH}', revision=\"fp16\", torch_dtype = torch.float16, safety_checker = None)\n",
        "pipe.scheduler = DDIMScheduler.from_config(pipe.scheduler.config)\n",
        "pipe = pipe.to(\"cuda\")\n",
        "\n",
        "\n",
        "# Vocab_File_Path = os.path.join(MODEL_PATH, 'tokenizer', 'vocab.json')\n",
        "tokenizer = CLIPTokenizer.from_pretrained(MODEL_PATH, subfolder=\"tokenizer\",revision=\"fp16\")\n",
        "\n",
        "# Get the transformers cache directory\n",
        "cache_dir = file_utils.default_cache_path\n",
        "\n",
        "# tokenizer/vocab.json files are normally saved in cache e.g.\n",
        "# /root/.cache/huggingface/hub/models--runwayml--stable-diffusion-v1-5/snapshots/xxxxx/tokenizer/vocab.json\n",
        "# find the vocab file\n",
        "for root, dirs, files in os.walk(cache_dir):\n",
        "    for file in files:\n",
        "        if file == \"vocab.json\":\n",
        "            vocab_file_path = os.path.join(root, file)\n",
        "            print(f\"Found vocab file at: {vocab_file_path}\")\n",
        "            break\n",
        "\n"
      ],
      "metadata": {
        "colab": {
          "base_uri": "https://localhost:8080/",
          "height": 120,
          "referenced_widgets": [
            "3bbd9060688d459a80afd53265aa273f",
            "660506f88eb64d7e9396562820f9c8a3",
            "727a195b4ad54295b1a9abab9937590b",
            "eadaf20ced314d048fe45ecd3a005309",
            "83a6be68b0e341f6b2b5e469c81db078",
            "36e1831103d44f138e9697a6466ccee9",
            "caab2c8f94794187857af4a0c1e777e7",
            "75f9c65aa8914e62951a5eb8f6f4b3a7",
            "7b0337b887be4bf59573f358df41432b",
            "2c69d9e1f7e74dbebc6420f3a109293a",
            "7b69b6e57a944054807b998820a34929"
          ]
        },
        "id": "5Vic9ZYEYY3y",
        "outputId": "9358cd05-f8cc-460d-dd2e-7e2af2bbd54d"
      },
      "execution_count": 20,
      "outputs": [
        {
          "output_type": "stream",
          "name": "stderr",
          "text": [
            "text_encoder/model.safetensors not found\n"
          ]
        },
        {
          "output_type": "display_data",
          "data": {
            "text/plain": [
              "Loading pipeline components...:   0%|          | 0/6 [00:00<?, ?it/s]"
            ],
            "application/vnd.jupyter.widget-view+json": {
              "version_major": 2,
              "version_minor": 0,
              "model_id": "3bbd9060688d459a80afd53265aa273f"
            }
          },
          "metadata": {}
        },
        {
          "output_type": "stream",
          "name": "stderr",
          "text": [
            "You have disabled the safety checker for <class 'diffusers.pipelines.stable_diffusion.pipeline_stable_diffusion.StableDiffusionPipeline'> by passing `safety_checker=None`. Ensure that you abide to the conditions of the Stable Diffusion license and do not expose unfiltered results in services or applications open to the public. Both the diffusers team and Hugging Face strongly recommend to keep the safety filter enabled in all public facing circumstances, disabling it only for use-cases that involve analyzing network behavior or auditing its results. For more information, please have a look at https://github.com/huggingface/diffusers/pull/254 .\n"
          ]
        },
        {
          "output_type": "stream",
          "name": "stdout",
          "text": [
            "Found vocab file at: /root/.cache/huggingface/hub/models--runwayml--stable-diffusion-v1-5/snapshots/ded79e214aa69e42c24d3f5ac14b76d568679cc2/tokenizer/vocab.json\n"
          ]
        }
      ]
    },
    {
      "cell_type": "code",
      "execution_count": 151,
      "metadata": {
        "id": "K-akUTZHw7Ls"
      },
      "outputs": [],
      "source": [
        "#@title 3. Setup Tokenize() Function\n",
        "\n",
        "import json\n",
        "\n",
        "# =======================================\n",
        "# for coloring text\n",
        "class bcolors:\n",
        "    HEADER = '\\033[95m'\n",
        "    OKBLUE = '\\033[94m'\n",
        "    OKCYAN = '\\033[96m'\n",
        "    OKGREEN = '\\033[92m'\n",
        "    WARNING = '\\033[93m'\n",
        "    RED = '\\033[91m'\n",
        "    ENDC = '\\033[0m'\n",
        "    BOLD = '\\033[1m'\n",
        "    UNDERLINE = '\\033[4m'\n",
        "\n",
        "# ===========================================================================\n",
        "# ===========================================================================\n",
        "def tokenize(prompt_or_caption):\n",
        "\n",
        "  with open(vocab_file_path, \"r\", encoding='utf-8') as f:\n",
        "    vocab = json.load(f)\n",
        "    vocab = {v: k for k, v in vocab.items()}\n",
        "\n",
        "  print(f'vocab size: {tokenizer.vocab_size}')\n",
        "  print(f'max length: {tokenizer.model_max_length}')\n",
        "\n",
        "  bos_encoded_input = tokenizer.encode('<|startoftext|>', add_special_tokens=False)\n",
        "  eos_encoded_input = tokenizer.encode(f'{tokenizer.eos_token}', add_special_tokens=False)\n",
        "  print(f'{bcolors.OKCYAN}special token (bos): {tokenizer.bos_token}: {bos_encoded_input}{bcolors.ENDC}')\n",
        "  print(f'{bcolors.OKCYAN}special token (eos): {tokenizer.eos_token}: {eos_encoded_input}{bcolors.ENDC}')\n",
        "\n",
        "\n",
        "\n",
        "\n",
        "  # print(f'special token (unk): {tokenizer.unk_token}')\n",
        "  # print(f'special token (pad): {tokenizer.pad_token}\\n')\n",
        "\n",
        "  print(f'{bcolors.OKGREEN}GREEN = Within the 77-Token Limit{bcolors.ENDC}')\n",
        "  print(f'{bcolors.RED}RED = Outside 77-Token Limit{bcolors.ENDC}\\n')\n",
        "\n",
        "  #inputs = tokenizer(sys.argv[1], padding=True)\n",
        "  inputs = tokenizer(f'{prompt_or_caption}', padding=True)\n",
        "  value = sum(inputs[\"input_ids\"])\n",
        "  value_str = str(value)\n",
        "  token_data = ''\n",
        "\n",
        "\n",
        "  #  print the token ids in rows of 10\n",
        "  row_length = 10\n",
        "  final_string_ids = '' # final string for the ids\n",
        "  final_string_words = '' # final string for the words/subwords\n",
        "\n",
        "  # Find the length of the longest word (for padding)\n",
        "  max_word_length = max(len(vocab[id]) for id in inputs[\"input_ids\"])\n",
        "\n",
        "  for i in range(0, len(inputs[\"input_ids\"]), row_length):\n",
        "    # Extract a row's worth of numbers\n",
        "    row = inputs[\"input_ids\"][i:i + row_length]\n",
        "\n",
        "    #  inputs[\"input_ids\"][x] = the ID Numbers\n",
        "    #  vocab[inputs[\"input_ids\"][x]] = the sub-word\n",
        "\n",
        "    # Initialize an empty string for the new row\n",
        "    row_string_ids = \"\"\n",
        "    row_string_words = \"\"\n",
        "\n",
        "    # Iterate through each token-id in the row, using j as index\n",
        "    for j, id in enumerate(row):\n",
        "        # here, id = inputs[\"input_ids\"][j]\n",
        "        # Calculate the global index of the token\n",
        "        global_index = i + j\n",
        "\n",
        "        word = vocab[id]\n",
        "        padded_word = word.ljust(max_word_length)\n",
        "\n",
        "        # Determine the color based on the global token index\n",
        "        if global_index < 77:\n",
        "            color = bcolors.OKGREEN\n",
        "        else:\n",
        "            color = bcolors.RED\n",
        "\n",
        "        # Append the colored token to the row string\n",
        "        row_string_ids += f\"{color}{id:5d}{bcolors.ENDC}\"\n",
        "        row_string_words += f\"{color}{padded_word}{bcolors.ENDC}\"\n",
        "\n",
        "        if j < len(row) - 1:\n",
        "            row_string_ids += \", \"  # Add comma and space between tokens\n",
        "            row_string_words += \", \"  # Add comma and space between tokens\n",
        "\n",
        "\n",
        "    # Determine if a comma should be added at the end\n",
        "    end_comma = ',' if i + row_length < len(inputs[\"input_ids\"]) else ''\n",
        "\n",
        "    # add to final strings\n",
        "    final_string_ids += row_string_ids + end_comma + '\\n'\n",
        "    final_string_words  += row_string_words + end_comma + '\\n'\n",
        "\n",
        "  print('\\n')\n",
        "\n",
        "  print(final_string_ids)\n",
        "\n",
        "  print('\\n')\n",
        "\n",
        "  print(final_string_words)\n",
        "\n",
        "\n"
      ]
    },
    {
      "cell_type": "code",
      "source": [
        "#@title 4. Run\n",
        "\n",
        "PROMPT_CAPTION = \"A charming photo of a small bunny. He is wearing a suit. masterpiece, ultra-quality, hyperrealistic, RAW photo, highly detailed, 4k, medium shot, cinematic photography, natural texture, action shot, XF IQ4, 150MP, 50mm, ISO 1000, 1/250s, natural light\"\n",
        "\n",
        "tokenize(PROMPT_CAPTION)\n",
        "\n"
      ],
      "metadata": {
        "colab": {
          "base_uri": "https://localhost:8080/"
        },
        "id": "WW_QsPJ_cA01",
        "outputId": "a6c25dbf-a2ca-4377-bdf2-8d1a3db04ac0"
      },
      "execution_count": 152,
      "outputs": [
        {
          "output_type": "stream",
          "name": "stdout",
          "text": [
            "vocab size: 49408\n",
            "max length: 77\n",
            "\u001b[96mspecial token (bos): <|startoftext|>: [49406]\u001b[0m\n",
            "\u001b[96mspecial token (eos): <|endoftext|>: [49407]\u001b[0m\n",
            "\u001b[92mGREEN = Within the 77-Token Limit\u001b[0m\n",
            "\u001b[91mRED = Outside 77-Token Limit\u001b[0m\n",
            "\n",
            "\n",
            "\n",
            "\u001b[92m49406\u001b[0m, \u001b[92m  320\u001b[0m, \u001b[92m12177\u001b[0m, \u001b[92m 1125\u001b[0m, \u001b[92m  539\u001b[0m, \u001b[92m  320\u001b[0m, \u001b[92m 2442\u001b[0m, \u001b[92m 9258\u001b[0m, \u001b[92m  269\u001b[0m, \u001b[92m  797\u001b[0m,\n",
            "\u001b[92m  533\u001b[0m, \u001b[92m 3309\u001b[0m, \u001b[92m  320\u001b[0m, \u001b[92m 3940\u001b[0m, \u001b[92m  269\u001b[0m, \u001b[92m12066\u001b[0m, \u001b[92m  267\u001b[0m, \u001b[92m 8118\u001b[0m, \u001b[92m  268\u001b[0m, \u001b[92m 3027\u001b[0m,\n",
            "\u001b[92m  267\u001b[0m, \u001b[92m 7997\u001b[0m, \u001b[92m16157\u001b[0m, \u001b[92m  267\u001b[0m, \u001b[92m 6323\u001b[0m, \u001b[92m 1125\u001b[0m, \u001b[92m  267\u001b[0m, \u001b[92m 5302\u001b[0m, \u001b[92m12609\u001b[0m, \u001b[92m  267\u001b[0m,\n",
            "\u001b[92m  275\u001b[0m, \u001b[92m  330\u001b[0m, \u001b[92m  267\u001b[0m, \u001b[92m 8675\u001b[0m, \u001b[92m 2000\u001b[0m, \u001b[92m  267\u001b[0m, \u001b[92m25602\u001b[0m, \u001b[92m 2108\u001b[0m, \u001b[92m  267\u001b[0m, \u001b[92m 3288\u001b[0m,\n",
            "\u001b[92m16505\u001b[0m, \u001b[92m  267\u001b[0m, \u001b[92m 1816\u001b[0m, \u001b[92m 2000\u001b[0m, \u001b[92m  267\u001b[0m, \u001b[92m35274\u001b[0m, \u001b[92m19996\u001b[0m, \u001b[92m  275\u001b[0m, \u001b[92m  267\u001b[0m, \u001b[92m  272\u001b[0m,\n",
            "\u001b[92m  276\u001b[0m, \u001b[92m  271\u001b[0m, \u001b[92m 1246\u001b[0m, \u001b[92m  267\u001b[0m, \u001b[92m  276\u001b[0m, \u001b[92m  271\u001b[0m, \u001b[92m 2848\u001b[0m, \u001b[92m  267\u001b[0m, \u001b[92m12263\u001b[0m, \u001b[92m  272\u001b[0m,\n",
            "\u001b[92m  271\u001b[0m, \u001b[92m  271\u001b[0m, \u001b[92m  271\u001b[0m, \u001b[92m  267\u001b[0m, \u001b[92m  272\u001b[0m, \u001b[92m  270\u001b[0m, \u001b[92m  273\u001b[0m, \u001b[92m  276\u001b[0m, \u001b[92m  271\u001b[0m, \u001b[92m  338\u001b[0m,\n",
            "\u001b[92m  267\u001b[0m, \u001b[92m 3288\u001b[0m, \u001b[92m 1395\u001b[0m, \u001b[92m49407\u001b[0m\n",
            "\n",
            "\n",
            "\n",
            "\u001b[92m<|startoftext|>\u001b[0m, \u001b[92ma</w>          \u001b[0m, \u001b[92mcharming</w>   \u001b[0m, \u001b[92mphoto</w>      \u001b[0m, \u001b[92mof</w>         \u001b[0m, \u001b[92ma</w>          \u001b[0m, \u001b[92msmall</w>      \u001b[0m, \u001b[92mbunny</w>      \u001b[0m, \u001b[92m.</w>          \u001b[0m, \u001b[92mhe</w>         \u001b[0m,\n",
            "\u001b[92mis</w>         \u001b[0m, \u001b[92mwearing</w>    \u001b[0m, \u001b[92ma</w>          \u001b[0m, \u001b[92msuit</w>       \u001b[0m, \u001b[92m.</w>          \u001b[0m, \u001b[92mmasterpiece</w>\u001b[0m, \u001b[92m,</w>          \u001b[0m, \u001b[92multra</w>      \u001b[0m, \u001b[92m-</w>          \u001b[0m, \u001b[92mquality</w>    \u001b[0m,\n",
            "\u001b[92m,</w>          \u001b[0m, \u001b[92mhyper          \u001b[0m, \u001b[92mrealistic</w>  \u001b[0m, \u001b[92m,</w>          \u001b[0m, \u001b[92mraw</w>        \u001b[0m, \u001b[92mphoto</w>      \u001b[0m, \u001b[92m,</w>          \u001b[0m, \u001b[92mhighly</w>     \u001b[0m, \u001b[92mdetailed</w>   \u001b[0m, \u001b[92m,</w>          \u001b[0m,\n",
            "\u001b[92m4</w>          \u001b[0m, \u001b[92mk</w>          \u001b[0m, \u001b[92m,</w>          \u001b[0m, \u001b[92mmedium</w>     \u001b[0m, \u001b[92mshot</w>       \u001b[0m, \u001b[92m,</w>          \u001b[0m, \u001b[92mcinematic</w>  \u001b[0m, \u001b[92mphotography</w>\u001b[0m, \u001b[92m,</w>          \u001b[0m, \u001b[92mnatural</w>    \u001b[0m,\n",
            "\u001b[92mtexture</w>    \u001b[0m, \u001b[92m,</w>          \u001b[0m, \u001b[92maction</w>     \u001b[0m, \u001b[92mshot</w>       \u001b[0m, \u001b[92m,</w>          \u001b[0m, \u001b[92mxf</w>         \u001b[0m, \u001b[92miq</w>         \u001b[0m, \u001b[92m4</w>          \u001b[0m, \u001b[92m,</w>          \u001b[0m, \u001b[92m1</w>          \u001b[0m,\n",
            "\u001b[92m5</w>          \u001b[0m, \u001b[92m0</w>          \u001b[0m, \u001b[92mmp</w>         \u001b[0m, \u001b[92m,</w>          \u001b[0m, \u001b[92m5</w>          \u001b[0m, \u001b[92m0</w>          \u001b[0m, \u001b[92mmm</w>         \u001b[0m, \u001b[92m,</w>          \u001b[0m, \u001b[92miso</w>        \u001b[0m, \u001b[92m1</w>          \u001b[0m,\n",
            "\u001b[92m0</w>          \u001b[0m, \u001b[92m0</w>          \u001b[0m, \u001b[92m0</w>          \u001b[0m, \u001b[92m,</w>          \u001b[0m, \u001b[92m1</w>          \u001b[0m, \u001b[92m/</w>          \u001b[0m, \u001b[92m2</w>          \u001b[0m, \u001b[92m5</w>          \u001b[0m, \u001b[92m0</w>          \u001b[0m, \u001b[92ms</w>          \u001b[0m,\n",
            "\u001b[92m,</w>          \u001b[0m, \u001b[92mnatural</w>    \u001b[0m, \u001b[92mlight</w>      \u001b[0m, \u001b[92m<|endoftext|>  \u001b[0m\n",
            "\n"
          ]
        }
      ]
    },
    {
      "cell_type": "code",
      "source": [],
      "metadata": {
        "id": "szYvHNJPWI3V"
      },
      "execution_count": null,
      "outputs": []
    }
  ],
  "metadata": {
    "accelerator": "GPU",
    "colab": {
      "provenance": []
    },
    "gpuClass": "standard",
    "kernelspec": {
      "display_name": "Python 3",
      "language": "python",
      "name": "python3"
    },
    "language_info": {
      "name": "python",
      "version": "3.11.0"
    },
    "vscode": {
      "interpreter": {
        "hash": "1a1af0ee75eeea9e2e1ee996c87e7a2b11a0bebd85af04bb136d915cefc0abce"
      }
    },
    "widgets": {
      "application/vnd.jupyter.widget-state+json": {
        "3bbd9060688d459a80afd53265aa273f": {
          "model_module": "@jupyter-widgets/controls",
          "model_name": "HBoxModel",
          "model_module_version": "1.5.0",
          "state": {
            "_dom_classes": [],
            "_model_module": "@jupyter-widgets/controls",
            "_model_module_version": "1.5.0",
            "_model_name": "HBoxModel",
            "_view_count": null,
            "_view_module": "@jupyter-widgets/controls",
            "_view_module_version": "1.5.0",
            "_view_name": "HBoxView",
            "box_style": "",
            "children": [
              "IPY_MODEL_660506f88eb64d7e9396562820f9c8a3",
              "IPY_MODEL_727a195b4ad54295b1a9abab9937590b",
              "IPY_MODEL_eadaf20ced314d048fe45ecd3a005309"
            ],
            "layout": "IPY_MODEL_83a6be68b0e341f6b2b5e469c81db078"
          }
        },
        "660506f88eb64d7e9396562820f9c8a3": {
          "model_module": "@jupyter-widgets/controls",
          "model_name": "HTMLModel",
          "model_module_version": "1.5.0",
          "state": {
            "_dom_classes": [],
            "_model_module": "@jupyter-widgets/controls",
            "_model_module_version": "1.5.0",
            "_model_name": "HTMLModel",
            "_view_count": null,
            "_view_module": "@jupyter-widgets/controls",
            "_view_module_version": "1.5.0",
            "_view_name": "HTMLView",
            "description": "",
            "description_tooltip": null,
            "layout": "IPY_MODEL_36e1831103d44f138e9697a6466ccee9",
            "placeholder": "​",
            "style": "IPY_MODEL_caab2c8f94794187857af4a0c1e777e7",
            "value": "Loading pipeline components...: 100%"
          }
        },
        "727a195b4ad54295b1a9abab9937590b": {
          "model_module": "@jupyter-widgets/controls",
          "model_name": "FloatProgressModel",
          "model_module_version": "1.5.0",
          "state": {
            "_dom_classes": [],
            "_model_module": "@jupyter-widgets/controls",
            "_model_module_version": "1.5.0",
            "_model_name": "FloatProgressModel",
            "_view_count": null,
            "_view_module": "@jupyter-widgets/controls",
            "_view_module_version": "1.5.0",
            "_view_name": "ProgressView",
            "bar_style": "success",
            "description": "",
            "description_tooltip": null,
            "layout": "IPY_MODEL_75f9c65aa8914e62951a5eb8f6f4b3a7",
            "max": 6,
            "min": 0,
            "orientation": "horizontal",
            "style": "IPY_MODEL_7b0337b887be4bf59573f358df41432b",
            "value": 6
          }
        },
        "eadaf20ced314d048fe45ecd3a005309": {
          "model_module": "@jupyter-widgets/controls",
          "model_name": "HTMLModel",
          "model_module_version": "1.5.0",
          "state": {
            "_dom_classes": [],
            "_model_module": "@jupyter-widgets/controls",
            "_model_module_version": "1.5.0",
            "_model_name": "HTMLModel",
            "_view_count": null,
            "_view_module": "@jupyter-widgets/controls",
            "_view_module_version": "1.5.0",
            "_view_name": "HTMLView",
            "description": "",
            "description_tooltip": null,
            "layout": "IPY_MODEL_2c69d9e1f7e74dbebc6420f3a109293a",
            "placeholder": "​",
            "style": "IPY_MODEL_7b69b6e57a944054807b998820a34929",
            "value": " 6/6 [00:01&lt;00:00,  2.62it/s]"
          }
        },
        "83a6be68b0e341f6b2b5e469c81db078": {
          "model_module": "@jupyter-widgets/base",
          "model_name": "LayoutModel",
          "model_module_version": "1.2.0",
          "state": {
            "_model_module": "@jupyter-widgets/base",
            "_model_module_version": "1.2.0",
            "_model_name": "LayoutModel",
            "_view_count": null,
            "_view_module": "@jupyter-widgets/base",
            "_view_module_version": "1.2.0",
            "_view_name": "LayoutView",
            "align_content": null,
            "align_items": null,
            "align_self": null,
            "border": null,
            "bottom": null,
            "display": null,
            "flex": null,
            "flex_flow": null,
            "grid_area": null,
            "grid_auto_columns": null,
            "grid_auto_flow": null,
            "grid_auto_rows": null,
            "grid_column": null,
            "grid_gap": null,
            "grid_row": null,
            "grid_template_areas": null,
            "grid_template_columns": null,
            "grid_template_rows": null,
            "height": null,
            "justify_content": null,
            "justify_items": null,
            "left": null,
            "margin": null,
            "max_height": null,
            "max_width": null,
            "min_height": null,
            "min_width": null,
            "object_fit": null,
            "object_position": null,
            "order": null,
            "overflow": null,
            "overflow_x": null,
            "overflow_y": null,
            "padding": null,
            "right": null,
            "top": null,
            "visibility": null,
            "width": null
          }
        },
        "36e1831103d44f138e9697a6466ccee9": {
          "model_module": "@jupyter-widgets/base",
          "model_name": "LayoutModel",
          "model_module_version": "1.2.0",
          "state": {
            "_model_module": "@jupyter-widgets/base",
            "_model_module_version": "1.2.0",
            "_model_name": "LayoutModel",
            "_view_count": null,
            "_view_module": "@jupyter-widgets/base",
            "_view_module_version": "1.2.0",
            "_view_name": "LayoutView",
            "align_content": null,
            "align_items": null,
            "align_self": null,
            "border": null,
            "bottom": null,
            "display": null,
            "flex": null,
            "flex_flow": null,
            "grid_area": null,
            "grid_auto_columns": null,
            "grid_auto_flow": null,
            "grid_auto_rows": null,
            "grid_column": null,
            "grid_gap": null,
            "grid_row": null,
            "grid_template_areas": null,
            "grid_template_columns": null,
            "grid_template_rows": null,
            "height": null,
            "justify_content": null,
            "justify_items": null,
            "left": null,
            "margin": null,
            "max_height": null,
            "max_width": null,
            "min_height": null,
            "min_width": null,
            "object_fit": null,
            "object_position": null,
            "order": null,
            "overflow": null,
            "overflow_x": null,
            "overflow_y": null,
            "padding": null,
            "right": null,
            "top": null,
            "visibility": null,
            "width": null
          }
        },
        "caab2c8f94794187857af4a0c1e777e7": {
          "model_module": "@jupyter-widgets/controls",
          "model_name": "DescriptionStyleModel",
          "model_module_version": "1.5.0",
          "state": {
            "_model_module": "@jupyter-widgets/controls",
            "_model_module_version": "1.5.0",
            "_model_name": "DescriptionStyleModel",
            "_view_count": null,
            "_view_module": "@jupyter-widgets/base",
            "_view_module_version": "1.2.0",
            "_view_name": "StyleView",
            "description_width": ""
          }
        },
        "75f9c65aa8914e62951a5eb8f6f4b3a7": {
          "model_module": "@jupyter-widgets/base",
          "model_name": "LayoutModel",
          "model_module_version": "1.2.0",
          "state": {
            "_model_module": "@jupyter-widgets/base",
            "_model_module_version": "1.2.0",
            "_model_name": "LayoutModel",
            "_view_count": null,
            "_view_module": "@jupyter-widgets/base",
            "_view_module_version": "1.2.0",
            "_view_name": "LayoutView",
            "align_content": null,
            "align_items": null,
            "align_self": null,
            "border": null,
            "bottom": null,
            "display": null,
            "flex": null,
            "flex_flow": null,
            "grid_area": null,
            "grid_auto_columns": null,
            "grid_auto_flow": null,
            "grid_auto_rows": null,
            "grid_column": null,
            "grid_gap": null,
            "grid_row": null,
            "grid_template_areas": null,
            "grid_template_columns": null,
            "grid_template_rows": null,
            "height": null,
            "justify_content": null,
            "justify_items": null,
            "left": null,
            "margin": null,
            "max_height": null,
            "max_width": null,
            "min_height": null,
            "min_width": null,
            "object_fit": null,
            "object_position": null,
            "order": null,
            "overflow": null,
            "overflow_x": null,
            "overflow_y": null,
            "padding": null,
            "right": null,
            "top": null,
            "visibility": null,
            "width": null
          }
        },
        "7b0337b887be4bf59573f358df41432b": {
          "model_module": "@jupyter-widgets/controls",
          "model_name": "ProgressStyleModel",
          "model_module_version": "1.5.0",
          "state": {
            "_model_module": "@jupyter-widgets/controls",
            "_model_module_version": "1.5.0",
            "_model_name": "ProgressStyleModel",
            "_view_count": null,
            "_view_module": "@jupyter-widgets/base",
            "_view_module_version": "1.2.0",
            "_view_name": "StyleView",
            "bar_color": null,
            "description_width": ""
          }
        },
        "2c69d9e1f7e74dbebc6420f3a109293a": {
          "model_module": "@jupyter-widgets/base",
          "model_name": "LayoutModel",
          "model_module_version": "1.2.0",
          "state": {
            "_model_module": "@jupyter-widgets/base",
            "_model_module_version": "1.2.0",
            "_model_name": "LayoutModel",
            "_view_count": null,
            "_view_module": "@jupyter-widgets/base",
            "_view_module_version": "1.2.0",
            "_view_name": "LayoutView",
            "align_content": null,
            "align_items": null,
            "align_self": null,
            "border": null,
            "bottom": null,
            "display": null,
            "flex": null,
            "flex_flow": null,
            "grid_area": null,
            "grid_auto_columns": null,
            "grid_auto_flow": null,
            "grid_auto_rows": null,
            "grid_column": null,
            "grid_gap": null,
            "grid_row": null,
            "grid_template_areas": null,
            "grid_template_columns": null,
            "grid_template_rows": null,
            "height": null,
            "justify_content": null,
            "justify_items": null,
            "left": null,
            "margin": null,
            "max_height": null,
            "max_width": null,
            "min_height": null,
            "min_width": null,
            "object_fit": null,
            "object_position": null,
            "order": null,
            "overflow": null,
            "overflow_x": null,
            "overflow_y": null,
            "padding": null,
            "right": null,
            "top": null,
            "visibility": null,
            "width": null
          }
        },
        "7b69b6e57a944054807b998820a34929": {
          "model_module": "@jupyter-widgets/controls",
          "model_name": "DescriptionStyleModel",
          "model_module_version": "1.5.0",
          "state": {
            "_model_module": "@jupyter-widgets/controls",
            "_model_module_version": "1.5.0",
            "_model_name": "DescriptionStyleModel",
            "_view_count": null,
            "_view_module": "@jupyter-widgets/base",
            "_view_module_version": "1.2.0",
            "_view_name": "StyleView",
            "description_width": ""
          }
        }
      }
    }
  },
  "nbformat": 4,
  "nbformat_minor": 0
}